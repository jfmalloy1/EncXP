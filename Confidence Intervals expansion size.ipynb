{
 "cells": [
  {
   "cell_type": "code",
   "execution_count": 1,
   "metadata": {},
   "outputs": [],
   "source": [
    "import pandas as pd\n",
    "import json\n",
    "import os\n",
    "import statsmodels.stats.weightstats as sms\n",
    "from collections import Counter\n",
    "\n",
    "import matplotlib.pyplot as plt\n",
    "import seaborn as sns\n",
    "\n",
    "import plotly\n",
    "import plotly.plotly as py\n",
    "import plotly.graph_objs as go\n",
    "import numpy as np\n",
    "\n",
    "import csv"
   ]
  },
  {
   "cell_type": "markdown",
   "metadata": {},
   "source": [
    "### Read Files\n",
    "\n",
    "Read in all files from 10nw (then 10w, 5nw, and 5w) 1000x expansions"
   ]
  },
  {
   "cell_type": "code",
   "execution_count": 2,
   "metadata": {},
   "outputs": [],
   "source": [
    "#Directory path\n",
    "dirpath = \"results/formatted/10nw_random/\""
   ]
  },
  {
   "cell_type": "code",
   "execution_count": 5,
   "metadata": {},
   "outputs": [],
   "source": [
    "#Read in all files, append total number of compounds to a numpy array\n",
    "def total_expansion_size(classifier):\n",
    "    dirpath = \"results/formatted/\" + classifier + \"/\"\n",
    "    size = []\n",
    "    weird_seed_set = [] #seed sets that result in larger than expected (>805) expansions\n",
    "    weird_compounds = [] #all compounds from analyses which result in larger than expected expansions\n",
    "    for file in os.listdir(dirpath):\n",
    "        if file.endswith(\".json\"):\n",
    "            with open(dirpath + file) as f:\n",
    "                datajson = json.load(f)\n",
    "            generations = pd.DataFrame(datajson[\"generations\"])\n",
    "            generations = generations.transpose()\n",
    "            generations.index = generations.index.astype(int)\n",
    "            generations = generations.sort_index()\n",
    "\n",
    "            original_columns = generations.columns\n",
    "            for col in original_columns:\n",
    "                generations[\"n_\"+col] = generations[col].str.len()\n",
    "            s = generations[\"n_compounds_cumulative\"].iloc[-1]\n",
    "            size.append(s)\n",
    "            if (s) > 805:\n",
    "                print(s)\n",
    "                weird_seed_set.append(generations[\"compounds_cumulative\"].iloc[0])\n",
    "                weird_compounds.append(generations[\"compounds_cumulative\"].iloc[-1])\n",
    "    return size, weird_seed_set, weird_compounds\n",
    "    "
   ]
  },
  {
   "cell_type": "code",
   "execution_count": 6,
   "metadata": {},
   "outputs": [
    {
     "name": "stdout",
     "output_type": "stream",
     "text": [
      "807\n",
      "[u'C00001', u'C00080', u'C00007', u'C02107', u'C00506', u'C00026', u'C03826', u'C00383', u'C02091', u'C00048', u'C00108', u'C07272', u'C01326', u'C00957', u'C01424', u'C00132', u'C03576', u'C00025', u'C00704', u'C01732', u'C00036', u'C05585', u'C00051', u'C00067', u'C02923', u'C00262', u'C00094', u'C00014', u'C00546', u'C00097', u'C05578', u'C08538', u'C00652', u'C00543', u'C00037', u'C00065', u'C00155', u'C00064', u'C00587', u'C00288', u'C00334', u'C00022', u'C00898', u'C01180', u'C00879', u'C00082', u'C06160', u'C00148', u'C00152', u'C05933', u'C00483', u'C00555', u'C05359', u'C00388', u'C21474', u'C00178', u'C00408', u'C18215', u'C00047', u'C01987', u'C02501', u'C00642', u'C00134', u'C06010', u'C00196', u'C07086', u'C02647', u'C11505', u'C02526', u'C00398', u'C00042', u'C00135', u'C02350', u'C03030', u'C00106', u'C00027', u'C19714', u'C00078', u'C16519', u'C00213', u'C00033', u'C00041', u'C00109', u'C00222', u'C00088', u'C04390', u'C00079', u'C00062', u'C02470', u'C02167', u'C16423', u'C05526', u'C00059', u'C03586', u'C01407', u'C08733', u'C00633', u'C00565', u'C00122', u'C00990', u'C02220', u'C06181', u'C15566', u'C00423', u'C02714', u'C03758', u'C01042', u'C03087', u'C20981', u'C00979', u'C00320', u'C11821', u'C01046', u'C03680', u'C08565', u'C08543', u'C07103', u'C05527', u'C00697', u'C01678', u'C00114', u'C02937', u'C00283', u'C01869', u'C00217', u'C00160', u'C03453', u'C06033', u'C00793', u'C00011', u'C00429', u'C03972', u'C00244', u'C01077', u'C07731', u'C06366', u'C03409', u'C00530', u'C03765', u'C00049', u'C00282', u'C01165', u'C17234', u'C00207', u'C03406', u'C00739', u'C01157', u'C00149', u'C01468', u'C01384', u'C00944', u'C19779', u'C07083', u'C00146', u'C00256', u'C21473', u'C00188', u'C05161', u'C17235', u'C00232', u'C08737', u'C00058', u'C00133', u'C01043', u'C21086', u'C00251', u'C04043', u'C00186', u'C00245', u'C02291', u'C04484', u'C03063', u'C05593', u'C16074', u'C01693', u'C00355', u'C00077', u'C00682', u'C01197', u'C01250', u'C21124', u'C02916', u'C05947', u'C13636', u'C01146', u'C03198', u'C02341', u'C00127', u'C00179', u'C21450', u'C02727', u'C04431', u'C01087', u'C00292', u'C01179', u'C16719', u'C00593', u'C00624', u'C05375', u'C00490', u'C03672', u'C15809', u'C00993', u'C03912', u'C01252', u'C00090', u'C03139', u'C01417', u'C00158', u'C03015', u'C03172', u'C03742', u'C00847', u'C02659', u'C00180', u'C00449', u'C00606', u'C20915', u'C18232', u'C17756', u'C00314', u'C00099', u'C00463', u'C03493', u'C01959', u'C20904', u'C02614', u'C03703', u'C06330', u'C00819', u'C05601', u'C05942', u'C05600', u'C00073', u'C00402', u'C05946', u'C21410', u'C20253', u'C00811', u'C00433', u'C00919', u'C03623', u'C05519', u'C07111', u'C00740', u'C00164', u'C02512', u'C06554', u'C16193', u'C20776', u'C00230', u'C00818', u'C00515', u'C03145', u'C00147', u'C04282', u'C02218', u'C00331', u'C00568', u'C02356', u'C00266', u'C00168', u'C01020', u'C00791', u'C09814', u'C14448', u'C20639', u'C00166', u'C12323', u'C12317', u'C19706', u'C00810', u'C07728', u'C04421', u'C00409', u'C00192', u'C01142', u'C02235', u'C01353', u'C00544', u'C06771', u'C05360', u'C17758', u'C06675', u'C02730', u'C16210', u'C00450', u'C00209', u'C16215', u'C02226', u'C04171', u'C03227', u'C02938', u'C02565', u'C00603', u'C05364', u'C11504', u'C02222', u'C04593', u'C00679', u'C00086', u'C01108', u'C00954', u'C16199', u'C03197', u'C00254', u'C00177', u'C03771', u'C00311', u'C01031', u'C00218', u'C04434', u'C01755', u'C11511', u'C00534', u'C05361', u'C01537', u'C17206', u'C21413', u'C01746', u'C00826', u'C08301', u'C03078', u'C16721', u'C18473', u'C00189', u'C00084', u'C00596', u'C00366', u'C00337', u'C14610', u'C19033', u'C05565', u'C01672', u'C21563', u'C00792', u'C00156', u'C00417', u'C03671', u'C20651', u'C00300', u'C10772', u'C00533', u'C19935', u'C00242', u'C06547', u'C05147', u'C00258', u'C11503', u'C16213', u'C17203', u'C00900', u'C21408', u'C04185', u'C05941', u'C04105', u'C03600', u'C00971', u'C05670', u'C04044', u'C01044', u'C02265', u'C20782', u'C02612', u'C01110', u'C01602', u'C18216', u'C01420', u'C00087', u'C01996', u'C06336', u'C20249', u'C00385', u'C20913', u'C20912', u'C20231', u'C20911', u'C06335', u'C03981', u'C04076', u'C02700', u'C03440', u'C00237', u'C19837', u'C05239', u'C18351', u'C01114', u'C03716', u'C02372', u'C06603', u'C05653', u'C06676', u'C00250', u'C20772', u'C12440', u'C02225', u'C13634', u'C03233', u'C06006', u'C00846', u'C02704', u'C01026', u'C02253', u'C03174', u'C00576', u'C01861', u'C01328', u'C05616', u'C00497', u'C00763', u'C19838', u'C00437', u'C00469', u'C14604', u'C19830', u'C19781', u'C03618', u'C00581', u'C03548', u'C20330', u'C17755', u'C17500', u'C14220', u'C01059', u'C00805', u'C14092', u'C01118', u'C21085', u'C16700', u'C02814', u'C00885', u'C15987', u'C19789', u'C01563', u'C00822', u'C21412', u'C18345', u'C01045', u'C03458', u'C06337', u'C05824', u'C06677', u'C06555', u'C00552', u'C19717', u'C14602', u'C20917', u'C16401', u'C21442', u'C16235', u'C00542', u'C20843', u'C02837', u'C05130', u'C02083', u'C03065', u'C01273', u'C03088', u'C00472', u'C00632', u'C16194', u'C21411', u'C00386', u'C08276', u'C03277', u'C03217', u'C00438', u'C03871', u'C04115', u'C00439', u'C11355', u'C20896', u'C06244', u'C19831', u'C02720', u'C00601', u'C05548', u'C01278', u'C00499', u'C01717', u'C03451', u'C00327', u'C03961', u'C02621', u'C00680', u'C12248', u'C01405', u'C08062', u'C16697', u'C03273', u'C18054', u'C17753', u'C03569', u'C08539', u'C01010', u'C13635', u'C03248', u'C00488', u'C15499', u'C01817', u'C19715', u'C16075', u'C16212', u'C00878', u'C01572', u'C00684', u'C03722', u'C14095', u'C00628', u'C05669', u'C01888', u'C20485', u'C21125', u'C04052', u'C00491', u'C04186', u'C00431', u'C02362', u'C16716', u'C20783', u'C05332', u'C21095', u'C20916', u'C02294', u'C06177', u'C20953', u'C00719', u'C08734', u'C00975', u'C16196', u'C20155', u'C15523', u'C06056', u'C01401', u'C16198', u'C02637', u'C21308', u'C21250', u'C00666', u'C20889', u'C03824', u'C02376', u'C16704', u'C20918', u'C00855', u'C07044', u'C18158', u'C21634', u'C05715', u'C05852', u'C20366', u'C05936', u'C03920', u'C14093', u'C01586', u'C14097', u'C15532', u'C06035', u'C15767', u'C02703', u'C03223', u'C12270', u'C01419', u'C15606', u'C16204', u'C16069', u'C14094', u'C20781', u'C01438', u'C00637', u'C03943', u'C03590', u'C06332', u'C00977', u'C20254', u'C04227', u'C21131', u'C20905', u'C05931', u'C20367', u'C02718', u'C14180', u'C01380', u'C02132', u'C00804', u'C01104', u'C10660', u'C06548', u'C02642', u'C05714', u'C05604', u'C21475', u'C03626', u'C01548', u'C06051', u'C03079', u'C04409', u'C17530', u'C14298', u'C05528', u'C01990', u'C03134', u'C19809', u'C05515', u'C16214', u'C05636', u'C05379', u'C09815', u'C00328', u'C00545', u'C05539', u'C06680', u'C02753', u'C07733', u'C03239', u'C02480', u'C00820', u'C05341', u'C00884', u'C08061', u'C01127', u'C19813', u'C01073', u'C15607', u'C11822', u'C01444', u'C01186', u'C02693', u'C15668', u'C01234', u'C21088', u'C20914', u'C07331', u'C02775', u'C06393', u'C17205', u'C08300', u'C06674', u'C00380', u'C17267', u'C00736', u'C00813', u'C07734', u'C12838', u'C02728', u'C12623', u'C12621', u'C06746', u'C16674', u'C04553', u'C12624', u'C19788', u'C06331', u'C00502', u'C00716', u'C14096', u'C21026', u'C00436', u'C01215', u'C02514', u'C02266', u'C00519', u'C02084', u'C21409', u'C01035', u'C02505', u'C01036', u'C00940', u'C00802', u'C01596', u'C06029', u'C06210', u'C06144', u'C05579', u'C03459', u'C21091', u'C12119', u'C02161', u'C05817', u'C03071', u'C09789', u'C10171', u'C00785', u'C00887', u'C02348', u'C05133', u'C06201', u'C04181', u'C03921', u'C05723', u'C03508', u'C17757', u'C06257', u'C04796', u'C05840', u'C03564', u'C05711', u'C04480', u'C01163', u'C06030', u'C20710', u'C02946', u'C01769', u'C00302', u'C04462', u'C06772', u'C12231', u'C03584', u'C06031', u'C05645', u'C04324', u'C03676', u'C01566', u'C05834', u'C16152', u'C21632', u'C00295', u'C18472', u'C05829', u'C12455', u'C06032', u'C03589', u'C10783', u'C17938', u'C03230', u'C17349', u'C04479', u'C04366', u'C06986', u'C05572', u'C06114', u'C05627', u'C05835', u'C06673', u'C01015', u'C05516', u'C06732', u'C07112', u'C09642', u'C11481', u'C14463', u'C04045', u'C05939', u'C20631', u'C20993', u'C09209', u'C05343', u'C17935', u'C20919', u'C06546', u'C06195', u'C06185', u'C05406', u'C02763', u'C10173', u'C20277', u'C04368', u'C06034', u'C03124', u'C04225', u'C04797', u'C16211', u'C09089', u'C05574', u'C06735', u'C02237', u'C06057', u'C03574', u'C03047', u'C20488', u'C03666', u'C06234', u'C01837', u'C00548', u'C04322', u'C01061', u'C06207', u'C06316', u'C10733', u'C02351', u'C16208', u'C20487', u'C07474', u'C10740', u'C21476', u'C19907', u'C17268', u'C05637', u'C04584', u'C04092', u'C08557', u'C16828', u'C06224', u'C21283', u'C01962', u'C09306', u'C20920', u'C16673', u'C05640', u'C03738', u'C03861', u'C10164', u'C11527', u'C05328', u'C16209', u'C05350', u'C03354']\n"
     ]
    }
   ],
   "source": [
    "#ALL seed set size\n",
    "dirpath = \"results/formatted/ALL/\"\n",
    "file = \"enc_exp_messedUpApparte.json\"\n",
    "full_expansion_compounds = []\n",
    "with open(dirpath + file) as f:\n",
    "    datajson = json.load(f)\n",
    "    generations = pd.DataFrame(datajson[\"generations\"])\n",
    "    generations = generations.transpose()\n",
    "    generations.index = generations.index.astype(int)\n",
    "    generations = generations.sort_index()\n",
    "    \n",
    "    original_columns = generations.columns\n",
    "    for col in original_columns:\n",
    "        generations[\"n_\"+col] = generations[col].str.len()\n",
    "    #print(generations.head())\n",
    "    print(generations[\"n_compounds_cumulative\"].iloc[-1])\n",
    "    full_expansion_compounds.append(generations[\"compounds_cumulative\"].iloc[-1])\n",
    "print(full_expansion_compounds[0])"
   ]
  },
  {
   "cell_type": "code",
   "execution_count": 10,
   "metadata": {
    "scrolled": true
   },
   "outputs": [
    {
     "name": "stdout",
     "output_type": "stream",
     "text": [
      "814\n",
      "812\n",
      "818\n",
      "815\n",
      "815\n",
      "815\n",
      "814\n",
      "813\n"
     ]
    }
   ],
   "source": [
    "#Get total expansion sizes for each classification\n",
    "# #note - will take a few minutes\n",
    "# exp_10w, weird_ss_10w, weird_cpds_10w = total_expansion_size(\"10w\")\n",
    "# #exp_10nw, weird_ss_10nw, weird_cpds_10nw = total_expansion_size(\"10nw\")\n",
    "# exp_5w, weird_ss_5w, weird_cpds_5w = total_expansion_size(\"5w\")\n",
    "# exp_5nw, weird_ss_5nw, weird_cpds_5nw = total_expansion_size(\"5nw\")\n",
    "\n",
    "#TODO: read in total expansion size\n",
    "#exp_10nw, weird_ss_10nw, weird_cpds_10nw = total_expansion_size(\"10nw\")\n",
    "\n",
    "#Total expansion side for 10nw_random\n",
    "exp_10nw_random, weird_ss_10nw_random, weird_cpds_10nw_random = total_expansion_size(\"10nw_random\")\n",
    "exp_10nw_fixed, weird_ss_10nw_fixed, weird_cpds_10nw_fixed = total_expansion_size(\"10nw_fixed\")\n",
    "\n",
    "        "
   ]
  },
  {
   "cell_type": "code",
   "execution_count": 11,
   "metadata": {},
   "outputs": [
    {
     "name": "stdout",
     "output_type": "stream",
     "text": [
      "1000\n",
      "1000\n"
     ]
    }
   ],
   "source": [
    "print(len(exp_10nw_random))\n",
    "print(len(exp_10nw_fixed))"
   ]
  },
  {
   "cell_type": "markdown",
   "metadata": {},
   "source": [
    "### Analyze\n",
    "\n",
    "Analyze the number of full expansions found in each"
   ]
  },
  {
   "cell_type": "code",
   "execution_count": 6,
   "metadata": {},
   "outputs": [],
   "source": [
    "#Convert them all into numpy arrays\n",
    "exp_10w = np.array(exp_10w)\n",
    "exp_10nw = np.array(exp_10nw)\n",
    "exp_5w = np.array(exp_5w)\n",
    "exp_5nw = np.array(exp_5nw)\n",
    "#print(exp_ALL)"
   ]
  },
  {
   "cell_type": "code",
   "execution_count": 12,
   "metadata": {},
   "outputs": [],
   "source": [
    "#Revision analysis\n",
    "exp_10nw_random = np.array(exp_10nw_random)\n",
    "exp_10nw_fixed = np.array(exp_10nw_fixed)"
   ]
  },
  {
   "cell_type": "code",
   "execution_count": 7,
   "metadata": {},
   "outputs": [
    {
     "name": "stdout",
     "output_type": "stream",
     "text": [
      "805\n"
     ]
    },
    {
     "data": {
      "text/plain": [
       "<function matplotlib.pyplot.show>"
      ]
     },
     "execution_count": 7,
     "metadata": {},
     "output_type": "execute_result"
    },
    {
     "data": {
      "image/png": "[encoded data removed]",
      "text/plain": [
       "<Figure size 432x288 with 1 Axes>"
      ]
     },
     "metadata": {
      "needs_background": "light"
     },
     "output_type": "display_data"
    }
   ],
   "source": [
    "#Plot the distribution of each array (before they are changed in the binary() function)\n",
    "print(np.max(exp_10nw))\n",
    "plt.hist(exp_10nw, bins=[0,100,200,300,400,500,600,700,800,900])\n",
    "plt.title(\"10 No Weight Expansion Size Distribution\")\n",
    "plt.xlabel(\"Size of network\")\n",
    "plt.ylabel(\"Occurances\")\n",
    "plt.show"
   ]
  },
  {
   "cell_type": "code",
   "execution_count": 8,
   "metadata": {},
   "outputs": [
    {
     "data": {
      "text/plain": [
       "<function matplotlib.pyplot.show>"
      ]
     },
     "execution_count": 8,
     "metadata": {},
     "output_type": "execute_result"
    },
    {
     "data": {
      "image/png": "[encoded data removed]",
      "text/plain": [
       "<Figure size 432x288 with 1 Axes>"
      ]
     },
     "metadata": {
      "needs_background": "light"
     },
     "output_type": "display_data"
    }
   ],
   "source": [
    "plt.hist(exp_10w, bins=[0,100,200,300,400,500,600,700,800,900])\n",
    "plt.title(\"10 Weighted Expansion Size Distribution\")\n",
    "plt.xlabel(\"Size of network\")\n",
    "plt.ylabel(\"Occurances\")\n",
    "plt.show"
   ]
  },
  {
   "cell_type": "code",
   "execution_count": 9,
   "metadata": {},
   "outputs": [
    {
     "data": {
      "text/plain": [
       "<function matplotlib.pyplot.show>"
      ]
     },
     "execution_count": 9,
     "metadata": {},
     "output_type": "execute_result"
    },
    {
     "data": {
      "image/png": "[encoded data removed]",
      "text/plain": [
       "<Figure size 432x288 with 1 Axes>"
      ]
     },
     "metadata": {
      "needs_background": "light"
     },
     "output_type": "display_data"
    }
   ],
   "source": [
    "plt.hist(exp_5nw, bins=[0,100,200,300,400,500,600,700,800,900])\n",
    "plt.title(\"5 No Weight Expansion Size Distribution\")\n",
    "plt.xlabel(\"Size of network\")\n",
    "plt.ylabel(\"Occurances\")\n",
    "plt.show"
   ]
  },
  {
   "cell_type": "code",
   "execution_count": 10,
   "metadata": {},
   "outputs": [
    {
     "data": {
      "text/plain": [
       "<function matplotlib.pyplot.show>"
      ]
     },
     "execution_count": 10,
     "metadata": {},
     "output_type": "execute_result"
    },
    {
     "data": {
      "image/png": "[encoded data removed]",
      "text/plain": [
       "<Figure size 432x288 with 1 Axes>"
      ]
     },
     "metadata": {
      "needs_background": "light"
     },
     "output_type": "display_data"
    }
   ],
   "source": [
    "plt.hist(exp_5w, bins=[0,100,200,300,400,500,600,700,800,900])\n",
    "plt.title(\"5 Weighted Expansion Size Distribution\")\n",
    "plt.xlabel(\"Size of network\")\n",
    "plt.ylabel(\"Occurances\")\n",
    "plt.show"
   ]
  },
  {
   "cell_type": "code",
   "execution_count": 15,
   "metadata": {},
   "outputs": [
    {
     "data": {
      "text/plain": [
       "<function matplotlib.pyplot.show>"
      ]
     },
     "execution_count": 15,
     "metadata": {},
     "output_type": "execute_result"
    },
    {
     "data": {
      "image/png": "[encoded data removed]",
      "text/plain": [
       "<Figure size 432x288 with 1 Axes>"
      ]
     },
     "metadata": {
      "needs_background": "light"
     },
     "output_type": "display_data"
    }
   ],
   "source": [
    "#Revision graphs\n",
    "plt.hist(exp_10nw_random, bins=[0,100,200,300,400,500,600,700,800,900])\n",
    "plt.title(\"10nw Random Expansion Size Distribution\")\n",
    "plt.xlabel(\"Size of network\")\n",
    "plt.ylabel(\"Occurances\")\n",
    "plt.show"
   ]
  },
  {
   "cell_type": "code",
   "execution_count": 16,
   "metadata": {},
   "outputs": [
    {
     "data": {
      "text/plain": [
       "<function matplotlib.pyplot.show>"
      ]
     },
     "execution_count": 16,
     "metadata": {},
     "output_type": "execute_result"
    },
    {
     "data": {
      "image/png": "[encoded data removed]",
      "text/plain": [
       "<Figure size 432x288 with 1 Axes>"
      ]
     },
     "metadata": {
      "needs_background": "light"
     },
     "output_type": "display_data"
    }
   ],
   "source": [
    "#Revision graph (again)\n",
    "plt.hist(exp_10nw_fixed, bins=[0,100,200,300,400,500,600,700,800,900])\n",
    "plt.title(\"10nw - 5 fixed - Expansion Size Distribution\")\n",
    "plt.xlabel(\"Size of network\")\n",
    "plt.ylabel(\"Occurances\")\n",
    "plt.show"
   ]
  },
  {
   "cell_type": "code",
   "execution_count": 14,
   "metadata": {},
   "outputs": [],
   "source": [
    "#How many of each expansion reached a full expansion (807 compounds)\n",
    "def max_size(array):\n",
    "    count = 0\n",
    "    for s in array:\n",
    "        if s > 805:\n",
    "            print(s)\n",
    "            count+=1\n",
    "    print(count)"
   ]
  },
  {
   "cell_type": "code",
   "execution_count": 12,
   "metadata": {},
   "outputs": [
    {
     "name": "stdout",
     "output_type": "stream",
     "text": [
      "0\n",
      "0\n",
      "0\n",
      "0\n"
     ]
    }
   ],
   "source": [
    "#Did any of the expansions reach the maximum expansion (answer - only 1)\n",
    "max_size(exp_10w)\n",
    "max_size(exp_10nw)\n",
    "max_size(exp_5w)\n",
    "max_size(exp_5nw)"
   ]
  },
  {
   "cell_type": "code",
   "execution_count": null,
   "metadata": {},
   "outputs": [],
   "source": []
  },
  {
   "cell_type": "markdown",
   "metadata": {},
   "source": [
    "### Problem\n",
    "\n",
    "10/21: 10nw analysis is showing 5 expansions above 805 compounds, which should be impossible. Which seed sets are those?"
   ]
  },
  {
   "cell_type": "code",
   "execution_count": 15,
   "metadata": {},
   "outputs": [],
   "source": [
    "#dataframe to translate from KEGG ID to compound name\n",
    "cpd_name_df = pd.read_csv(\"accessible_compounds.csv\")"
   ]
  },
  {
   "cell_type": "code",
   "execution_count": 16,
   "metadata": {},
   "outputs": [
    {
     "name": "stdout",
     "output_type": "stream",
     "text": [
      "H2O\n",
      "Hydrogen cyanide\n",
      "Formaldehyde\n",
      "Benzene\n",
      "Hydrogen sulfide\n",
      "CO\n",
      "Ethanol\n",
      "Propane\n",
      "Methane\n",
      "Ethylene oxide\n",
      " \n",
      "H2O\n",
      "Formaldehyde\n",
      "Ammonia\n",
      "Benzene\n",
      "Hydrogen sulfide\n",
      "Ethanol\n",
      "Propane\n",
      "Methane\n",
      "Ethylene oxide\n",
      "Acetylene\n",
      " \n",
      "H2O\n",
      "Hydrogen cyanide\n",
      "Formaldehyde\n",
      "Benzene\n",
      "Hydrogen sulfide\n",
      "CO2\n",
      "Ethanol\n",
      "Propane\n",
      "Methane\n",
      "Ethylene oxide\n",
      " \n",
      "Hydrogen cyanide\n",
      "Methanol\n",
      "Propylene\n",
      "Benzene\n",
      "Hydrogen sulfide\n",
      "CO2\n",
      "Ethanol\n",
      "Propane\n",
      "Methane\n",
      "Ethylene oxide\n",
      " \n",
      "Hydrogen cyanide\n",
      "Methanol\n",
      "Benzene\n",
      "Hydrogen sulfide\n",
      "CO2\n",
      "Ethanol\n",
      "Propane\n",
      "Methane\n",
      "Ethylene oxide\n",
      "Acetylene\n",
      " \n",
      "Counter({'Benzene': 5, 'Ethylene oxide': 5, 'Propane': 5, 'Hydrogen sulfide': 5, 'Ethanol': 5, 'Methane': 5, 'Hydrogen cyanide': 4, 'H2O': 3, 'CO2': 3, 'Formaldehyde': 3, 'Acetylene': 2, 'Methanol': 2, 'CO': 1, 'Propylene': 1, 'Ammonia': 1})\n"
     ]
    }
   ],
   "source": [
    "#Which seed sets are found in > 805 expansions\n",
    "weird_ss_names = []\n",
    "for s in weird_ss_10nw:\n",
    "    for cpd in s: \n",
    "        print(cpd_name_df['Name'].loc[cpd_name_df[\"Compound\"] == cpd].iloc[0])\n",
    "        weird_ss_names.append(cpd_name_df['Name'].loc[cpd_name_df[\"Compound\"] == cpd].iloc[0])\n",
    "    print(\" \")\n",
    "\n",
    "#counter object for weird cpd names\n",
    "weird_ss_counter = Counter(weird_ss_names)\n",
    "print(weird_ss_counter)\n",
    "            "
   ]
  },
  {
   "cell_type": "code",
   "execution_count": 17,
   "metadata": {},
   "outputs": [
    {
     "name": "stdout",
     "output_type": "stream",
     "text": [
      "[]\n",
      "[]\n",
      "[]\n",
      "[]\n",
      "[]\n"
     ]
    }
   ],
   "source": [
    "#Which new compounds are being generated?\n",
    "\n",
    "for cpd_list in weird_cpds_10nw:\n",
    "    #print the difference between the compounds here and the full list generated by the 18-cpd seed set\n",
    "    diff = list((set(cpd_list) - set(full_expansion_compounds[0])))\n",
    "    print(diff)\n",
    "    for cpd in diff:\n",
    "        print(cpd_name_df['Name'].loc[cpd_name_df[\"Compound\"] == cpd].iloc[0])"
   ]
  },
  {
   "cell_type": "code",
   "execution_count": 17,
   "metadata": {},
   "outputs": [],
   "source": [
    "#1 if expansion is greater than 500, 0 otherwise\n",
    "def binary(array):\n",
    "    with np.nditer(array, op_flags=['readwrite']) as et:\n",
    "        for e in et:\n",
    "            if e >= 500:\n",
    "                e[...] = 1\n",
    "            else:\n",
    "                e[...] = 0\n",
    "    return array"
   ]
  },
  {
   "cell_type": "code",
   "execution_count": 14,
   "metadata": {},
   "outputs": [],
   "source": [
    "#Find each full expansion\n",
    "bin_10w = binary(exp_10w)\n",
    "bin_10nw = binary(exp_10nw)\n",
    "bin_5w = binary(exp_5w)\n",
    "bin_5nw = binary(exp_5nw)"
   ]
  },
  {
   "cell_type": "code",
   "execution_count": 18,
   "metadata": {},
   "outputs": [],
   "source": [
    "#Revised full expansion\n",
    "bin_10nw_random = binary(exp_10nw_random)\n",
    "bin_10nw_fixed = binary(exp_10nw_fixed)"
   ]
  },
  {
   "cell_type": "code",
   "execution_count": 19,
   "metadata": {},
   "outputs": [],
   "source": [
    "#Randomly sample 100 times from each distribution\n",
    "def sample(bin_array):\n",
    "    sample = []\n",
    "    for i in range(100):\n",
    "        sample.append(np.sum(np.random.choice(bin_array, 100)))\n",
    "\n",
    "    return sample"
   ]
  },
  {
   "cell_type": "code",
   "execution_count": 17,
   "metadata": {},
   "outputs": [],
   "source": [
    "#100 random samples from each distribution\n",
    "sample_10w = np.asarray(sample(bin_10w))\n",
    "sample_10nw = np.asarray(sample(bin_10nw))\n",
    "sample_5w = np.asarray(sample(bin_5w))\n",
    "sample_5nw = np.asarray(sample(bin_5nw))"
   ]
  },
  {
   "cell_type": "code",
   "execution_count": 20,
   "metadata": {},
   "outputs": [],
   "source": [
    "#Revised sampling\n",
    "sample_10nw_random = np.asarray(sample(bin_10nw_random))\n",
    "sample_10nw_fixed = np.asarray(sample(bin_10nw_fixed))\n"
   ]
  },
  {
   "cell_type": "code",
   "execution_count": 18,
   "metadata": {},
   "outputs": [
    {
     "name": "stdout",
     "output_type": "stream",
     "text": [
      "10w \n",
      "----\n",
      "Mean: 98.46\n",
      "Confidence Range: (98.20241435956376, 98.71758564043623)\n",
      "\n",
      "\n",
      "10nw \n",
      "----\n",
      "Mean: 58.92\n",
      "Confidence Range: (57.949705184362394, 59.89029481563761)\n",
      "\n",
      "\n",
      "5w \n",
      "----\n",
      "Mean: 9.45\n",
      "Confidence Range: (8.895641047922645, 10.004358952077354)\n",
      "\n",
      "\n",
      "5nw \n",
      "----\n",
      "Mean: 5.6\n",
      "Confidence Range: (5.120558661137856, 6.079441338862143)\n",
      "\n",
      "\n"
     ]
    }
   ],
   "source": [
    "#95% confidence interval for each\n",
    "print(\"10w \\n----\\nMean: \" + str(np.mean(sample_10w)) + \"\\nConfidence Range: \" + str(sms.DescrStatsW(sample_10w).tconfint_mean(alpha=0.05)) + \"\\n\\n\")\n",
    "print(\"10nw \\n----\\nMean: \" + str(np.mean(sample_10nw)) + \"\\nConfidence Range: \" + str(sms.DescrStatsW(sample_10nw).tconfint_mean(alpha=0.05)) + \"\\n\\n\")\n",
    "print(\"5w \\n----\\nMean: \" + str(np.mean(sample_5w)) + \"\\nConfidence Range: \" + str(sms.DescrStatsW(sample_5w).tconfint_mean(alpha=0.05)) + \"\\n\\n\")\n",
    "print(\"5nw \\n----\\nMean: \" + str(np.mean(sample_5nw)) + \"\\nConfidence Range: \" + str(sms.DescrStatsW(sample_5nw).tconfint_mean(alpha=0.05)) + \"\\n\\n\")"
   ]
  },
  {
   "cell_type": "code",
   "execution_count": 21,
   "metadata": {},
   "outputs": [
    {
     "name": "stdout",
     "output_type": "stream",
     "text": [
      "10nw random \n",
      "----\n",
      "Mean: 50.92\n",
      "Confidence Range: (49.914283728491995, 51.92571627150801)\n",
      "\n",
      "\n",
      "10nw fixed \n",
      "----\n",
      "Mean: 69.3\n",
      "Confidence Range: (68.37424685629657, 70.22575314370343)\n",
      "\n",
      "\n"
     ]
    }
   ],
   "source": [
    "#Revised 95% confidence interval for each\n",
    "print(\"10nw random \\n----\\nMean: \" + str(np.mean(sample_10nw_random)) + \"\\nConfidence Range: \" + str(sms.DescrStatsW(sample_10nw_random).tconfint_mean(alpha=0.05)) + \"\\n\\n\")\n",
    "print(\"10nw fixed \\n----\\nMean: \" + str(np.mean(sample_10nw_fixed)) + \"\\nConfidence Range: \" + str(sms.DescrStatsW(sample_10nw_fixed).tconfint_mean(alpha=0.05)) + \"\\n\\n\")\n"
   ]
  }
 ],
 "metadata": {
  "kernelspec": {
   "display_name": "Python 3",
   "language": "python",
   "name": "python3"
  },
  "language_info": {
   "codemirror_mode": {
    "name": "ipython",
    "version": 2
   },
   "file_extension": ".py",
   "mimetype": "text/x-python",
   "name": "python",
   "nbconvert_exporter": "python",
   "pygments_lexer": "ipython2",
   "version": "2.7.15"
  }
 },
 "nbformat": 4,
 "nbformat_minor": 2
}
