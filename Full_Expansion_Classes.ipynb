{
 "cells": [
  {
   "cell_type": "code",
   "execution_count": 2,
   "metadata": {},
   "outputs": [],
   "source": [
    "import pandas as pd\n",
    "import json\n",
    "\n",
    "import matplotlib.pyplot as mpl\n",
    "import seaborn as sns\n",
    "\n",
    "import plotly\n",
    "import plotly.plotly as py\n",
    "import plotly.graph_objs as go\n",
    "import numpy as np\n",
    "\n",
    "import csv"
   ]
  },
  {
   "cell_type": "markdown",
   "metadata": {},
   "source": [
    "## Read Files\n",
    "\n",
    "enc_exp0 - found in \"results/formatted/ALL\", full network expansion of all seeds found within Enceladus plumes"
   ]
  },
  {
   "cell_type": "code",
   "execution_count": 3,
   "metadata": {},
   "outputs": [],
   "source": [
    "#Full expansion\n",
    "exp_path = \"results/formatted/ALL/enc_exp0.json\"\n",
    "\n",
    "#Brite classification\n",
    "brite_path = \"brite.json\""
   ]
  },
  {
   "cell_type": "code",
   "execution_count": 4,
   "metadata": {},
   "outputs": [
    {
     "data": {
      "text/html": [
       "<div>\n",
       "<style scoped>\n",
       "    .dataframe tbody tr th:only-of-type {\n",
       "        vertical-align: middle;\n",
       "    }\n",
       "\n",
       "    .dataframe tbody tr th {\n",
       "        vertical-align: top;\n",
       "    }\n",
       "\n",
       "    .dataframe thead th {\n",
       "        text-align: right;\n",
       "    }\n",
       "</style>\n",
       "<table border=\"1\" class=\"dataframe\">\n",
       "  <thead>\n",
       "    <tr style=\"text-align: right;\">\n",
       "      <th></th>\n",
       "      <th>compounds_cumulative</th>\n",
       "      <th>compounds_new</th>\n",
       "      <th>reactions_cumulative</th>\n",
       "      <th>reactions_new</th>\n",
       "      <th>targets_cumulative</th>\n",
       "      <th>targets_new</th>\n",
       "      <th>n_compounds_cumulative</th>\n",
       "      <th>n_compounds_new</th>\n",
       "      <th>n_reactions_cumulative</th>\n",
       "      <th>n_reactions_new</th>\n",
       "      <th>n_targets_cumulative</th>\n",
       "      <th>n_targets_new</th>\n",
       "    </tr>\n",
       "  </thead>\n",
       "  <tbody>\n",
       "    <tr>\n",
       "      <th>1</th>\n",
       "      <td>[C00001, C01326, C00132, C00067, C00014, C1150...</td>\n",
       "      <td>[C06547, C20783, C01548, C00014, C00011, C0006...</td>\n",
       "      <td>[R10092, R05539, R09139, R00067, R00132, R0235...</td>\n",
       "      <td>[R10535, R10079, R10092, R00131, R09139, R0538...</td>\n",
       "      <td>[]</td>\n",
       "      <td>[]</td>\n",
       "      <td>18</td>\n",
       "      <td>18</td>\n",
       "      <td>23</td>\n",
       "      <td>23</td>\n",
       "      <td>0</td>\n",
       "      <td>0</td>\n",
       "    </tr>\n",
       "    <tr>\n",
       "      <th>2</th>\n",
       "      <td>[C00001, C00080, C00007, C00026, C01326, C0013...</td>\n",
       "      <td>[C00080, C00007, C00026, C00288, C05359, C0002...</td>\n",
       "      <td>[R10092, R00608, R05539, R00279, R09139, R0006...</td>\n",
       "      <td>[R00608, R00279, R03546, R09144, R07803, R0478...</td>\n",
       "      <td>[]</td>\n",
       "      <td>[]</td>\n",
       "      <td>41</td>\n",
       "      <td>23</td>\n",
       "      <td>59</td>\n",
       "      <td>36</td>\n",
       "      <td>0</td>\n",
       "      <td>0</td>\n",
       "    </tr>\n",
       "    <tr>\n",
       "      <th>3</th>\n",
       "      <td>[C00001, C00080, C00007, C00026, C00048, C0132...</td>\n",
       "      <td>[C00048, C00025, C00704, C00022, C00222, C0021...</td>\n",
       "      <td>[R00782, R10092, R00608, R00258, R05539, R0027...</td>\n",
       "      <td>[R00782, R00258, R00475, R00008, R01874, R0537...</td>\n",
       "      <td>[C00025]</td>\n",
       "      <td>[C00025]</td>\n",
       "      <td>67</td>\n",
       "      <td>26</td>\n",
       "      <td>147</td>\n",
       "      <td>88</td>\n",
       "      <td>1</td>\n",
       "      <td>1</td>\n",
       "    </tr>\n",
       "    <tr>\n",
       "      <th>4</th>\n",
       "      <td>[C00001, C00080, C00007, C00026, C00048, C0132...</td>\n",
       "      <td>[C00036, C00546, C00097, C00037, C00065, C0006...</td>\n",
       "      <td>[R00340, R00363, R00782, R10092, R10178, R0060...</td>\n",
       "      <td>[R00340, R00363, R10178, R02914, R09648, R0156...</td>\n",
       "      <td>[C00025, C00097, C00037, C00065, C00064, C00041]</td>\n",
       "      <td>[C00097, C00037, C00065, C00064, C00041]</td>\n",
       "      <td>146</td>\n",
       "      <td>79</td>\n",
       "      <td>288</td>\n",
       "      <td>141</td>\n",
       "      <td>6</td>\n",
       "      <td>5</td>\n",
       "    </tr>\n",
       "    <tr>\n",
       "      <th>5</th>\n",
       "      <td>[C00001, C00080, C00007, C02107, C00026, C0382...</td>\n",
       "      <td>[C02107, C03826, C00383, C02091, C00108, C0095...</td>\n",
       "      <td>[R00340, R09186, R10908, R03106, R03551, R0369...</td>\n",
       "      <td>[R09186, R10908, R03106, R03551, R03694, R0696...</td>\n",
       "      <td>[C00025, C00097, C00037, C00065, C00064, C0004...</td>\n",
       "      <td>[C00049, C00188]</td>\n",
       "      <td>244</td>\n",
       "      <td>98</td>\n",
       "      <td>393</td>\n",
       "      <td>105</td>\n",
       "      <td>8</td>\n",
       "      <td>2</td>\n",
       "    </tr>\n",
       "  </tbody>\n",
       "</table>\n",
       "</div>"
      ],
      "text/plain": [
       "                                compounds_cumulative  \\\n",
       "1  [C00001, C01326, C00132, C00067, C00014, C1150...   \n",
       "2  [C00001, C00080, C00007, C00026, C01326, C0013...   \n",
       "3  [C00001, C00080, C00007, C00026, C00048, C0132...   \n",
       "4  [C00001, C00080, C00007, C00026, C00048, C0132...   \n",
       "5  [C00001, C00080, C00007, C02107, C00026, C0382...   \n",
       "\n",
       "                                       compounds_new  \\\n",
       "1  [C06547, C20783, C01548, C00014, C00011, C0006...   \n",
       "2  [C00080, C00007, C00026, C00288, C05359, C0002...   \n",
       "3  [C00048, C00025, C00704, C00022, C00222, C0021...   \n",
       "4  [C00036, C00546, C00097, C00037, C00065, C0006...   \n",
       "5  [C02107, C03826, C00383, C02091, C00108, C0095...   \n",
       "\n",
       "                                reactions_cumulative  \\\n",
       "1  [R10092, R05539, R09139, R00067, R00132, R0235...   \n",
       "2  [R10092, R00608, R05539, R00279, R09139, R0006...   \n",
       "3  [R00782, R10092, R00608, R00258, R05539, R0027...   \n",
       "4  [R00340, R00363, R00782, R10092, R10178, R0060...   \n",
       "5  [R00340, R09186, R10908, R03106, R03551, R0369...   \n",
       "\n",
       "                                       reactions_new  \\\n",
       "1  [R10535, R10079, R10092, R00131, R09139, R0538...   \n",
       "2  [R00608, R00279, R03546, R09144, R07803, R0478...   \n",
       "3  [R00782, R00258, R00475, R00008, R01874, R0537...   \n",
       "4  [R00340, R00363, R10178, R02914, R09648, R0156...   \n",
       "5  [R09186, R10908, R03106, R03551, R03694, R0696...   \n",
       "\n",
       "                                  targets_cumulative  \\\n",
       "1                                                 []   \n",
       "2                                                 []   \n",
       "3                                           [C00025]   \n",
       "4   [C00025, C00097, C00037, C00065, C00064, C00041]   \n",
       "5  [C00025, C00097, C00037, C00065, C00064, C0004...   \n",
       "\n",
       "                                targets_new  n_compounds_cumulative  \\\n",
       "1                                        []                      18   \n",
       "2                                        []                      41   \n",
       "3                                  [C00025]                      67   \n",
       "4  [C00097, C00037, C00065, C00064, C00041]                     146   \n",
       "5                          [C00049, C00188]                     244   \n",
       "\n",
       "   n_compounds_new  n_reactions_cumulative  n_reactions_new  \\\n",
       "1               18                      23               23   \n",
       "2               23                      59               36   \n",
       "3               26                     147               88   \n",
       "4               79                     288              141   \n",
       "5               98                     393              105   \n",
       "\n",
       "   n_targets_cumulative  n_targets_new  \n",
       "1                     0              0  \n",
       "2                     0              0  \n",
       "3                     1              1  \n",
       "4                     6              5  \n",
       "5                     8              2  "
      ]
     },
     "execution_count": 4,
     "metadata": {},
     "output_type": "execute_result"
    }
   ],
   "source": [
    "#Read in expansion data (including numbers of compounds)\n",
    "with open(exp_path) as f:\n",
    "    datajson = json.load(f)\n",
    "generations = pd.DataFrame(datajson[\"generations\"])\n",
    "generations = generations.transpose()\n",
    "generations.index = generations.index.astype(int)\n",
    "generations = generations.sort_index()\n",
    "\n",
    "original_columns = generations.columns\n",
    "for col in original_columns:\n",
    "    generations[\"n_\"+col] = generations[col].str.len() \n",
    "\n",
    "generations.head()"
   ]
  },
  {
   "cell_type": "code",
   "execution_count": 5,
   "metadata": {},
   "outputs": [],
   "source": [
    "#Read in brite data\n",
    "with open(brite_path) as b:\n",
    "    britejson = json.load(b)\n",
    "\n",
    "#list of each classification\n",
    "#1: Lipds\n",
    "#2: Nucleic Acids\n",
    "#3: etc... (given by classes dictionary)\n",
    "cpd_class_list = []\n",
    "classes = {\"Organic acids\": 0, \"Lipids\": 1, \"Carbohydrates\": 2, \"Nucleic acids\": 3, \"Peptides\": 4, \"Vitamins and Cofactors\": 5, \"Steroids\": 6, \"Hormones and transmitters\": 7, \"Antibiotics\": 8}\n",
    "for i in range(9):\n",
    "    cpd_class_list.append([])\n",
    "\n",
    "#Append each compound to its correct list (all organic acids go in cpd_class_list[0], etc...)\n",
    "for classification in britejson[\"children\"]:\n",
    "    #print(\"\\n\" + classification[\"name\"] + \"\\n\")\n",
    "    for subclass in classification[\"children\"]:\n",
    "        for subsubclass in subclass[\"children\"]:\n",
    "            for cpd in subsubclass[\"children\"]:\n",
    "                #only append compound KEGG name\n",
    "                cpd_class_list[classes[classification[\"name\"].encode('ascii', 'ignore')]].append(cpd[\"name\"].encode('ascii', 'ignore')[:6])"
   ]
  },
  {
   "cell_type": "markdown",
   "metadata": {},
   "source": [
    "Note - don't need to read in targets, there is a \"targets_cumulative\" column in generations which lists all targets generated at each step.\n",
    "\n",
    "Goal for next step - get list of all compounds at last timestep"
   ]
  },
  {
   "cell_type": "markdown",
   "metadata": {},
   "source": [
    "### Compound classification (brite)\n",
    "\n",
    "Link compounds generated by expansion to classifiction (given by brite classifiction in KEGG)"
   ]
  },
  {
   "cell_type": "code",
   "execution_count": 6,
   "metadata": {},
   "outputs": [],
   "source": [
    "#final_cpds: list of all compounds at final timestep\n",
    "final_cpds = generations[\"compounds_cumulative\"].iloc[-1]\n"
   ]
  },
  {
   "cell_type": "code",
   "execution_count": 7,
   "metadata": {},
   "outputs": [
    {
     "name": "stdout",
     "output_type": "stream",
     "text": [
      "Organic acids: 34\n",
      "Lipids: 44\n",
      "Carbohydrates: 63\n",
      "Nucleic acids: 49\n",
      "Peptides: 61\n",
      "Vitamins and Cofactors: 31\n",
      "Steroids: 0\n",
      "Hormones and transmitters: 16\n",
      "Antibiotics: 13\n"
     ]
    }
   ],
   "source": [
    "total = 0\n",
    "for i in range(len(cpd_class_list)):\n",
    "    for cpd in cpd_class_list[i]:\n",
    "        if cpd in final_cpds:\n",
    "            total += 1\n",
    "    for c, pos in classes.items():\n",
    "        if pos == i:\n",
    "            print(str(c) + \": \" + str(total))\n",
    "    total = 0"
   ]
  },
  {
   "cell_type": "markdown",
   "metadata": {},
   "source": [
    "### Target Compounds\n",
    "\n",
    "Find the target compounds produced by random expansion"
   ]
  },
  {
   "cell_type": "code",
   "execution_count": 14,
   "metadata": {},
   "outputs": [
    {
     "name": "stdout",
     "output_type": "stream",
     "text": [
      "Number of compounds generated in random expansion: 61\n",
      "Number of life compounds: 65\n"
     ]
    }
   ],
   "source": [
    "#define life-specifc reactions\n",
    "freilich = \"links/Freilich09.json\"\n",
    "with open(freilich) as fr:\n",
    "   datajsonfr = json.load(fr)\n",
    "    \n",
    "lc = datajsonfr.keys()\n",
    "\n",
    "#Find the intersection of the compounds generated and the compounds needed for life\n",
    "targets = list(set(lc) & set(final_cpds))\n",
    "print(\"Number of compounds generated in random expansion: \" + str(len(targets)))\n",
    "print(\"Number of life compounds: \" + str(len(lc)))"
   ]
  },
  {
   "cell_type": "code",
   "execution_count": 29,
   "metadata": {},
   "outputs": [
    {
     "name": "stdout",
     "output_type": "stream",
     "text": [
      "[u'C15672', u'C00748', u'C05899', u'C05890']\n",
      "Not produced: \n",
      "\n",
      "Heme O\n",
      "Siroheme\n"
     ]
    },
    {
     "ename": "KeyError",
     "evalue": "u'the label [C05890] is not in the [index]'",
     "output_type": "error",
     "traceback": [
      "\u001b[0;31m---------------------------------------------------------------------------\u001b[0m",
      "\u001b[0;31mKeyError\u001b[0m                                  Traceback (most recent call last)",
      "\u001b[0;32m<ipython-input-29-20e31b3c6f80>\u001b[0m in \u001b[0;36m<module>\u001b[0;34m()\u001b[0m\n\u001b[1;32m     14\u001b[0m \u001b[0mnot_produced\u001b[0m\u001b[0;34m[\u001b[0m\u001b[0;36m2\u001b[0m\u001b[0;34m]\u001b[0m \u001b[0;34m=\u001b[0m \u001b[0mnot_produced\u001b[0m\u001b[0;34m[\u001b[0m\u001b[0;36m3\u001b[0m\u001b[0;34m]\u001b[0m\u001b[0;34m\u001b[0m\u001b[0m\n\u001b[1;32m     15\u001b[0m \u001b[0;32mfor\u001b[0m \u001b[0mc\u001b[0m \u001b[0;32min\u001b[0m \u001b[0mnot_produced\u001b[0m\u001b[0;34m:\u001b[0m\u001b[0;34m\u001b[0m\u001b[0m\n\u001b[0;32m---> 16\u001b[0;31m     \u001b[0;32mprint\u001b[0m\u001b[0;34m(\u001b[0m\u001b[0mnames_df\u001b[0m\u001b[0;34m.\u001b[0m\u001b[0mloc\u001b[0m\u001b[0;34m[\u001b[0m\u001b[0mc\u001b[0m\u001b[0;34m,\u001b[0m \u001b[0;34m\"Name\"\u001b[0m\u001b[0;34m]\u001b[0m\u001b[0;34m)\u001b[0m\u001b[0;34m\u001b[0m\u001b[0m\n\u001b[0m",
      "\u001b[0;32m/Users/John/anaconda2/lib/python2.7/site-packages/pandas/core/indexing.pyc\u001b[0m in \u001b[0;36m__getitem__\u001b[0;34m(self, key)\u001b[0m\n\u001b[1;32m   1470\u001b[0m             \u001b[0;32mexcept\u001b[0m \u001b[0;34m(\u001b[0m\u001b[0mKeyError\u001b[0m\u001b[0;34m,\u001b[0m \u001b[0mIndexError\u001b[0m\u001b[0;34m)\u001b[0m\u001b[0;34m:\u001b[0m\u001b[0;34m\u001b[0m\u001b[0m\n\u001b[1;32m   1471\u001b[0m                 \u001b[0;32mpass\u001b[0m\u001b[0;34m\u001b[0m\u001b[0m\n\u001b[0;32m-> 1472\u001b[0;31m             \u001b[0;32mreturn\u001b[0m \u001b[0mself\u001b[0m\u001b[0;34m.\u001b[0m\u001b[0m_getitem_tuple\u001b[0m\u001b[0;34m(\u001b[0m\u001b[0mkey\u001b[0m\u001b[0;34m)\u001b[0m\u001b[0;34m\u001b[0m\u001b[0m\n\u001b[0m\u001b[1;32m   1473\u001b[0m         \u001b[0;32melse\u001b[0m\u001b[0;34m:\u001b[0m\u001b[0;34m\u001b[0m\u001b[0m\n\u001b[1;32m   1474\u001b[0m             \u001b[0;31m# we by definition only have the 0th axis\u001b[0m\u001b[0;34m\u001b[0m\u001b[0;34m\u001b[0m\u001b[0m\n",
      "\u001b[0;32m/Users/John/anaconda2/lib/python2.7/site-packages/pandas/core/indexing.pyc\u001b[0m in \u001b[0;36m_getitem_tuple\u001b[0;34m(self, tup)\u001b[0m\n\u001b[1;32m    868\u001b[0m     \u001b[0;32mdef\u001b[0m \u001b[0m_getitem_tuple\u001b[0m\u001b[0;34m(\u001b[0m\u001b[0mself\u001b[0m\u001b[0;34m,\u001b[0m \u001b[0mtup\u001b[0m\u001b[0;34m)\u001b[0m\u001b[0;34m:\u001b[0m\u001b[0;34m\u001b[0m\u001b[0m\n\u001b[1;32m    869\u001b[0m         \u001b[0;32mtry\u001b[0m\u001b[0;34m:\u001b[0m\u001b[0;34m\u001b[0m\u001b[0m\n\u001b[0;32m--> 870\u001b[0;31m             \u001b[0;32mreturn\u001b[0m \u001b[0mself\u001b[0m\u001b[0;34m.\u001b[0m\u001b[0m_getitem_lowerdim\u001b[0m\u001b[0;34m(\u001b[0m\u001b[0mtup\u001b[0m\u001b[0;34m)\u001b[0m\u001b[0;34m\u001b[0m\u001b[0m\n\u001b[0m\u001b[1;32m    871\u001b[0m         \u001b[0;32mexcept\u001b[0m \u001b[0mIndexingError\u001b[0m\u001b[0;34m:\u001b[0m\u001b[0;34m\u001b[0m\u001b[0m\n\u001b[1;32m    872\u001b[0m             \u001b[0;32mpass\u001b[0m\u001b[0;34m\u001b[0m\u001b[0m\n",
      "\u001b[0;32m/Users/John/anaconda2/lib/python2.7/site-packages/pandas/core/indexing.pyc\u001b[0m in \u001b[0;36m_getitem_lowerdim\u001b[0;34m(self, tup)\u001b[0m\n\u001b[1;32m    996\u001b[0m         \u001b[0;32mfor\u001b[0m \u001b[0mi\u001b[0m\u001b[0;34m,\u001b[0m \u001b[0mkey\u001b[0m \u001b[0;32min\u001b[0m \u001b[0menumerate\u001b[0m\u001b[0;34m(\u001b[0m\u001b[0mtup\u001b[0m\u001b[0;34m)\u001b[0m\u001b[0;34m:\u001b[0m\u001b[0;34m\u001b[0m\u001b[0m\n\u001b[1;32m    997\u001b[0m             \u001b[0;32mif\u001b[0m \u001b[0mis_label_like\u001b[0m\u001b[0;34m(\u001b[0m\u001b[0mkey\u001b[0m\u001b[0;34m)\u001b[0m \u001b[0;32mor\u001b[0m \u001b[0misinstance\u001b[0m\u001b[0;34m(\u001b[0m\u001b[0mkey\u001b[0m\u001b[0;34m,\u001b[0m \u001b[0mtuple\u001b[0m\u001b[0;34m)\u001b[0m\u001b[0;34m:\u001b[0m\u001b[0;34m\u001b[0m\u001b[0m\n\u001b[0;32m--> 998\u001b[0;31m                 \u001b[0msection\u001b[0m \u001b[0;34m=\u001b[0m \u001b[0mself\u001b[0m\u001b[0;34m.\u001b[0m\u001b[0m_getitem_axis\u001b[0m\u001b[0;34m(\u001b[0m\u001b[0mkey\u001b[0m\u001b[0;34m,\u001b[0m \u001b[0maxis\u001b[0m\u001b[0;34m=\u001b[0m\u001b[0mi\u001b[0m\u001b[0;34m)\u001b[0m\u001b[0;34m\u001b[0m\u001b[0m\n\u001b[0m\u001b[1;32m    999\u001b[0m \u001b[0;34m\u001b[0m\u001b[0m\n\u001b[1;32m   1000\u001b[0m                 \u001b[0;31m# we have yielded a scalar ?\u001b[0m\u001b[0;34m\u001b[0m\u001b[0;34m\u001b[0m\u001b[0m\n",
      "\u001b[0;32m/Users/John/anaconda2/lib/python2.7/site-packages/pandas/core/indexing.pyc\u001b[0m in \u001b[0;36m_getitem_axis\u001b[0;34m(self, key, axis)\u001b[0m\n\u001b[1;32m   1909\u001b[0m \u001b[0;34m\u001b[0m\u001b[0m\n\u001b[1;32m   1910\u001b[0m         \u001b[0;31m# fall thru to straight lookup\u001b[0m\u001b[0;34m\u001b[0m\u001b[0;34m\u001b[0m\u001b[0m\n\u001b[0;32m-> 1911\u001b[0;31m         \u001b[0mself\u001b[0m\u001b[0;34m.\u001b[0m\u001b[0m_validate_key\u001b[0m\u001b[0;34m(\u001b[0m\u001b[0mkey\u001b[0m\u001b[0;34m,\u001b[0m \u001b[0maxis\u001b[0m\u001b[0;34m)\u001b[0m\u001b[0;34m\u001b[0m\u001b[0m\n\u001b[0m\u001b[1;32m   1912\u001b[0m         \u001b[0;32mreturn\u001b[0m \u001b[0mself\u001b[0m\u001b[0;34m.\u001b[0m\u001b[0m_get_label\u001b[0m\u001b[0;34m(\u001b[0m\u001b[0mkey\u001b[0m\u001b[0;34m,\u001b[0m \u001b[0maxis\u001b[0m\u001b[0;34m=\u001b[0m\u001b[0maxis\u001b[0m\u001b[0;34m)\u001b[0m\u001b[0;34m\u001b[0m\u001b[0m\n\u001b[1;32m   1913\u001b[0m \u001b[0;34m\u001b[0m\u001b[0m\n",
      "\u001b[0;32m/Users/John/anaconda2/lib/python2.7/site-packages/pandas/core/indexing.pyc\u001b[0m in \u001b[0;36m_validate_key\u001b[0;34m(self, key, axis)\u001b[0m\n\u001b[1;32m   1796\u001b[0m                 \u001b[0;32mraise\u001b[0m\u001b[0;34m\u001b[0m\u001b[0m\n\u001b[1;32m   1797\u001b[0m             \u001b[0;32mexcept\u001b[0m\u001b[0;34m:\u001b[0m\u001b[0;34m\u001b[0m\u001b[0m\n\u001b[0;32m-> 1798\u001b[0;31m                 \u001b[0merror\u001b[0m\u001b[0;34m(\u001b[0m\u001b[0;34m)\u001b[0m\u001b[0;34m\u001b[0m\u001b[0m\n\u001b[0m\u001b[1;32m   1799\u001b[0m \u001b[0;34m\u001b[0m\u001b[0m\n\u001b[1;32m   1800\u001b[0m     \u001b[0;32mdef\u001b[0m \u001b[0m_is_scalar_access\u001b[0m\u001b[0;34m(\u001b[0m\u001b[0mself\u001b[0m\u001b[0;34m,\u001b[0m \u001b[0mkey\u001b[0m\u001b[0;34m)\u001b[0m\u001b[0;34m:\u001b[0m\u001b[0;34m\u001b[0m\u001b[0m\n",
      "\u001b[0;32m/Users/John/anaconda2/lib/python2.7/site-packages/pandas/core/indexing.pyc\u001b[0m in \u001b[0;36merror\u001b[0;34m()\u001b[0m\n\u001b[1;32m   1783\u001b[0m                 raise KeyError(u\"the label [{key}] is not in the [{axis}]\"\n\u001b[1;32m   1784\u001b[0m                                .format(key=key,\n\u001b[0;32m-> 1785\u001b[0;31m                                        axis=self.obj._get_axis_name(axis)))\n\u001b[0m\u001b[1;32m   1786\u001b[0m \u001b[0;34m\u001b[0m\u001b[0m\n\u001b[1;32m   1787\u001b[0m             \u001b[0;32mtry\u001b[0m\u001b[0;34m:\u001b[0m\u001b[0;34m\u001b[0m\u001b[0m\n",
      "\u001b[0;31mKeyError\u001b[0m: u'the label [C05890] is not in the [index]'"
     ]
    }
   ],
   "source": [
    "#find all compounds not produced by random expansion\n",
    "not_produced = []\n",
    "for c in lc:\n",
    "    if c not in targets:\n",
    "        not_produced.append(c)\n",
    "        \n",
    "print(not_produced)\n",
    "#print out compounds and names\n",
    "with open(\"../KEGG/accessible_compounds.csv\") as translation:\n",
    "    names_df = pd.read_csv(translation)\n",
    "    names_df.set_index(\"Compound\", inplace=True)\n",
    "    \n",
    "print(\"Not produced: \\n\")\n",
    "not_produced[2] = not_produced[3]\n",
    "for c in not_produced:\n",
    "    print(names_df.loc[c, \"Name\"])"
   ]
  }
 ],
 "metadata": {
  "kernelspec": {
   "display_name": "Python 3",
   "language": "python",
   "name": "python3"
  },
  "language_info": {
   "codemirror_mode": {
    "name": "ipython",
    "version": 2
   },
   "file_extension": ".py",
   "mimetype": "text/x-python",
   "name": "python",
   "nbconvert_exporter": "python",
   "pygments_lexer": "ipython2",
   "version": "2.7.15"
  }
 },
 "nbformat": 4,
 "nbformat_minor": 2
}
